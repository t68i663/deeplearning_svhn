{
 "cells": [
  {
   "cell_type": "markdown",
   "metadata": {},
   "source": [
    "## Getting Started With TensorFlow: Basics\n",
    "You’ll generally write TensorFlow programs, which you run as a chunk; This is at first sight kind of contradictory when you’re working with Python. However, if you would like, you can also use TensorFlow’s Interactive Session, which you can use to work more interactively with the library. This is especially handy when you’re used to working with IPython.\n",
    "\n",
    "For this notebook, you’ll focus on the second option: this will help you to get kickstarted with deep learning in TensorFlow. "
   ]
  },
  {
   "cell_type": "code",
   "execution_count": 2,
   "metadata": {},
   "outputs": [],
   "source": [
    "import tensorflow as tf #First, import the tensorflow library under the alias tf"
   ]
  },
  {
   "cell_type": "code",
   "execution_count": 3,
   "metadata": {},
   "outputs": [],
   "source": [
    "# Initialize two constants\n",
    "a = tf.constant(1)\n",
    "b = tf.constant(2)"
   ]
  },
  {
   "cell_type": "code",
   "execution_count": 4,
   "metadata": {},
   "outputs": [],
   "source": [
    "# add\n",
    "result = tf.add(a, b)"
   ]
  },
  {
   "cell_type": "code",
   "execution_count": 5,
   "metadata": {},
   "outputs": [],
   "source": [
    "# Intialize the Session\n",
    "sess = tf.Session()"
   ]
  },
  {
   "cell_type": "code",
   "execution_count": 6,
   "metadata": {},
   "outputs": [
    {
     "name": "stdout",
     "output_type": "stream",
     "text": [
      "3\n"
     ]
    }
   ],
   "source": [
    "# Print the result\n",
    "print(sess.run(result))"
   ]
  },
  {
   "cell_type": "code",
   "execution_count": 7,
   "metadata": {},
   "outputs": [],
   "source": [
    "# Close the session\n",
    "sess.close()"
   ]
  },
  {
   "cell_type": "markdown",
   "metadata": {},
   "source": [
    "#### We can also use an array which be called a tensor in tensorflow to init A and B"
   ]
  },
  {
   "cell_type": "code",
   "execution_count": 8,
   "metadata": {},
   "outputs": [
    {
     "name": "stdout",
     "output_type": "stream",
     "text": [
      "[array([ 6,  8, 10, 12]), array([ 5, 12, 21, 32])]\n"
     ]
    }
   ],
   "source": [
    "# Initialize two constants\n",
    "A = tf.constant([1,2,3,4])\n",
    "B = tf.constant([5,6,7,8])\n",
    "\n",
    "# add\n",
    "res1 = tf.add(A, B)\n",
    "\n",
    "# multiply\n",
    "res2 = tf.multiply(A, B)\n",
    "\n",
    "# Initialize Session and run\n",
    "with tf.Session() as sess:\n",
    "  output = sess.run([res1, res2]) # Specify the output you want in the list\n",
    "  print(output)\n"
   ]
  },
  {
   "cell_type": "markdown",
   "metadata": {},
   "source": [
    "#### By using placeholders, we can feed arbitrary data into the compute graph."
   ]
  },
  {
   "cell_type": "code",
   "execution_count": 9,
   "metadata": {},
   "outputs": [
    {
     "name": "stdout",
     "output_type": "stream",
     "text": [
      "a: [84 44 35 31], b: [90 14 57 18]\n[array([174.,  58.,  92.,  49.], dtype=float32)]\na: [ 1 11 42 99], b: [80 91 22 94]\n[array([ 81., 102.,  64., 193.], dtype=float32)]\na: [53 90 28 97], b: [11 23 33 25]\n[array([ 64., 113.,  61., 122.], dtype=float32)]\na: [40 16 75 32], b: [63 62 97  0]\n[array([103.,  78., 172.,  32.], dtype=float32)]\na: [82 10 31 27], b: [65 38 35 59]\n[array([147.,  48.,  66.,  86.], dtype=float32)]\na: [37 19 13 42], b: [98 86 44 15]\n[array([135., 105.,  57.,  57.], dtype=float32)]\na: [85 62 67 86], b: [53 32 78 18]\n[array([138.,  94., 145., 104.], dtype=float32)]\na: [ 4 71 75 71], b: [11 98 25  1]\n[array([ 15., 169., 100.,  72.], dtype=float32)]\na: [46 37 11 82], b: [57 31 35 57]\n[array([103.,  68.,  46., 139.], dtype=float32)]\na: [43 92 58 79], b: [36 72 71 97]\n[array([ 79., 164., 129., 176.], dtype=float32)]\n"
     ]
    }
   ],
   "source": [
    "import numpy as np\n",
    "\n",
    "# Initialize two placeholders\n",
    "A = tf.placeholder(tf.float32, shape=(4,), name='A')\n",
    "B = tf.placeholder(tf.float32, shape=(4,), name='B')\n",
    "\n",
    "# add\n",
    "result = tf.add(A, B)\n",
    "\n",
    "with tf.Session() as sess:\n",
    "    for i in range(10):\n",
    "        a = np.random.randint(100, size=4)\n",
    "        b = np.random.randint(100, size=4)\n",
    "        print('a: {}, b: {}'.format(a, b))\n",
    "        print(sess.run([result], feed_dict={A: a, B: b}))"
   ]
  },
  {
   "cell_type": "code",
   "execution_count": null,
   "metadata": {},
   "outputs": [],
   "source": []
  }
 ],
 "metadata": {
  "kernelspec": {
   "display_name": "Python 3",
   "language": "python",
   "name": "python3"
  },
  "language_info": {
   "codemirror_mode": {
    "name": "ipython",
    "version": 3
   },
   "file_extension": ".py",
   "mimetype": "text/x-python",
   "name": "python",
   "nbconvert_exporter": "python",
   "pygments_lexer": "ipython3",
   "version": "3.5.2"
  }
 },
 "nbformat": 4,
 "nbformat_minor": 2
}
